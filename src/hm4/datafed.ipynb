{
 "cells": [
  {
   "cell_type": "code",
   "execution_count": 3,
   "metadata": {},
   "outputs": [],
   "source": [
    "import json\n",
    "from datafed.CommandLib import API\n",
    "\n",
    "# Initialize the DataFed API\n",
    "df_api = API()\n",
    "\n",
    "# Define the metadata parameters\n",
    "parameters = {\n",
    "    \"Title\": \"Seoul Bike Sharing Demand\",\n",
    "    \"Description\" : \"This dataset encapsulates detailed hourly records of bike sharing demand in Seoul, South Korea. It includes various parameters such as date, time, temperature, humidity, wind speed, visibility, dew point temperature, solar radiation, rainfall, snowfall, seasons, holiday, and functioning day. The dataset is intended to facilitate the analysis of factors affecting bike sharing demand and can be used for predictive modeling and trend analysis. \",\n",
    "    \"Date of Data Creation\" : \"The dataset typically encompasses from January 2017 to December 2018\", \n",
    "    \"Data Type\" : \"The data is primarily numerical, including continuous variables (e.g., temperature, humidity) and categorical variables (e.g., season, holiday).\",\n",
    "    \"Data Format\": \"CSV (Comma-Separated Values)\",\n",
    "    \"Keywords\": \"Bike Sharing, Urban Transportation, Seoul, Time Series Analysis, Predictive Modeling, Environmental Factors, Seasonal Trends, Urban Planning\",\n",
    "}\n",
    "# Specify the record ID\n",
    "record_id = \"d/500183259\"\n",
    "\n",
    "# Call the dataUpdate function with the record ID, new title, and metadata\n",
    "du_resp = df_api.dataUpdate(\n",
    "    record_id,\n",
    "    metadata=json.dumps(parameters)  # Use the corrected metadata parameters\n",
    ")"
   ]
  },
  {
   "cell_type": "code",
   "execution_count": null,
   "metadata": {},
   "outputs": [],
   "source": []
  }
 ],
 "metadata": {
  "kernelspec": {
   "display_name": "memt680",
   "language": "python",
   "name": "python3"
  },
  "language_info": {
   "codemirror_mode": {
    "name": "ipython",
    "version": 3
   },
   "file_extension": ".py",
   "mimetype": "text/x-python",
   "name": "python",
   "nbconvert_exporter": "python",
   "pygments_lexer": "ipython3",
   "version": "3.11.5"
  }
 },
 "nbformat": 4,
 "nbformat_minor": 2
}
